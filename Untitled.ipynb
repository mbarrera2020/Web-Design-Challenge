{
 "cells": [
  {
   "cell_type": "markdown",
   "metadata": {},
   "source": [
    "#Web-Design-Challenge"
   ]
  },
  {
   "cell_type": "code",
   "execution_count": null,
   "metadata": {},
   "outputs": [],
   "source": [
    "#Python program to convert CSV file to HTML Table\n",
    "\n",
    "import pandas as pd \n",
    "  \n",
    "# to read csv file named \"samplee\" \n",
    "a = pd.read_csv(\"read_file.csv\") \n",
    "  \n",
    "# to save as html file \n",
    "# named as \"Table\" \n",
    "a.to_html(\"Table.htm\") \n",
    "  \n",
    "# assign it to a  \n",
    "# variable (string) \n",
    "html_file = a.to_html() "
   ]
  },
  {
   "cell_type": "code",
   "execution_count": null,
   "metadata": {},
   "outputs": [],
   "source": []
  }
 ],
 "metadata": {
  "kernelspec": {
   "display_name": "Python 3",
   "language": "python",
   "name": "python3"
  },
  "language_info": {
   "codemirror_mode": {
    "name": "ipython",
    "version": 3
   },
   "file_extension": ".py",
   "mimetype": "text/x-python",
   "name": "python",
   "nbconvert_exporter": "python",
   "pygments_lexer": "ipython3",
   "version": "3.8.5"
  }
 },
 "nbformat": 4,
 "nbformat_minor": 4
}
